{
 "cells": [
  {
   "cell_type": "markdown",
   "metadata": {},
   "source": [
    "# Coding KMeans function from scratching"
   ]
  },
  {
   "cell_type": "code",
   "execution_count": 3,
   "metadata": {},
   "outputs": [],
   "source": [
    "import numpy as np\n",
    "import matplotlib.pyplot as plt\n",
    "import seaborn as sns\n",
    "from collections import defaultdict\n",
    "\n",
    "# Calculate the euclidean distance from two vectors.\n",
    "def euclidean_distance(x, y):\n",
    "    return np.sqrt(np.sum((x - y) ** 2))\n",
    "\n",
    "# Randomly initialize the center points and return these points.\n",
    "def init_center(data, n_clusters):\n",
    "    n_samples, n_features = data.shape\n",
    "    centers = np.zeros((n_clusters, n_features))\n",
    "    for cluster_index in range(n_clusters):\n",
    "        index = int(np.random.uniform(0, n_samples))\n",
    "        centers[cluster_index, :] = data[index, :]\n",
    "    return centers\n",
    "\n",
    "# The main function of KMeans.\n",
    "def KMeans(data, n_clusters):\n",
    "    n_samples = data.shape[0]\n",
    "    \n",
    "    # Initialize cluster label for each sample.\n",
    "    cluster = np.mat(np.zeros((n_samples, 2)))\n",
    "    cluster_change = True\n",
    "    \n",
    "    # Initialize center points.\n",
    "    centers = init_center(data, n_clusters)\n",
    "    while cluster_change:\n",
    "        cluster_change = False\n",
    "\n",
    "        # Do loop for each sample.\n",
    "        for i in range(n_samples):\n",
    "            min_distance = 100000.0\n",
    "            min_index = -1\n",
    "\n",
    "            # Calculate distance from sample to each cluster.\n",
    "            for cluster_index in range(n_clusters):\n",
    "                distance = euclidean_distance(centers[cluster_index, :], data[i, :])\n",
    "                if distance < min_distance:\n",
    "                    min_distance = distance\n",
    "                    min_index = cluster_index\n",
    "\n",
    "            # Update cluster label[index, distance].\n",
    "            if n_clusters == 1:\n",
    "                cluster[i, :] = min_index, min_distance ** 2\n",
    "            if cluster[i, 0] != min_index:\n",
    "                # If any cluster label changes, it means the KMeans iteration should continue.\n",
    "                cluster_change = True\n",
    "                cluster[i, :] = min_index, min_distance ** 2\n",
    "\n",
    "        # Update new centers\n",
    "        for cluster_index in range(n_clusters):\n",
    "            points = data[np.nonzero(cluster[:, 0].A == cluster_index)[0]]\n",
    "            centers[cluster_index, :] = np.mean(points, axis=0)\n",
    "    inertia = sum(cluster[:, 1])[0, 0]\n",
    "    return centers, cluster, inertia\n",
    "\n",
    "# Make plot image for data which only have 2 features.\n",
    "def show_2D_cluster(data, n_clusters, centers, cluster):\n",
    "    n_samples, n_features = data.shape\n",
    "\n",
    "    # Make marks for the samples.\n",
    "    mark = ['or', 'ob', 'og', 'ok', 'sr', 'dr', 'pr']\n",
    "    for i in range(n_samples):\n",
    "        mark_index = int(cluster[i, 0])\n",
    "        plt.plot(data[i, 0], data[i, 1], mark[mark_index])\n",
    "\n",
    "    # Make marks for the centers.\n",
    "    mark = ['Dr', 'Db', 'Dg', 'Dk', 'sb', 'db', 'pb']\n",
    "    for j in range(n_clusters):\n",
    "        plt.plot(centers[j, 0], centers[j, 1], mark[j])\n",
    "    plt.show()\n",
    "\n",
    "# Use elbow method to choose the k value.\n",
    "def elbow(data):\n",
    "    ss_error = {}\n",
    "    centers_cluster = defaultdict(list)\n",
    "    for k in range(1, 11):\n",
    "        centers, cluster, inertia = KMeans(data, k)\n",
    "        ss_error[k] = inertia\n",
    "        centers_cluster[k] = [centers, cluster]\n",
    "    return centers_cluster, ss_error\n",
    "\n",
    "# Show the plot of the result of elbow method.\n",
    "def show_elbow(ss_error):\n",
    "    plt.figure(figsize=(14,10))\n",
    "    plt.title('Elbow plot')\n",
    "    plt.xlabel('Value of k')\n",
    "    plt.ylabel('Sum of squared error')\n",
    "    sns.pointplot(x=list(ss_error.keys()), y=list(ss_error.values()))\n",
    "    plt.show()"
   ]
  },
  {
   "cell_type": "code",
   "execution_count": 20,
   "metadata": {},
   "outputs": [
    {
     "data": {
      "image/png": "[encoded data removed]",
      "text/plain": [
       "<Figure size 1008x720 with 1 Axes>"
      ]
     },
     "metadata": {
      "needs_background": "light"
     },
     "output_type": "display_data"
    }
   ],
   "source": [
    "# The dataset of 30 watermelons. It has two features, they are the density and sugar density of watermelons.\n",
    "watermelon = [\n",
    "        # 1\n",
    "        [0.697, 0.460],\n",
    "        # 2\n",
    "        [0.774, 0.376],\n",
    "        # 3\n",
    "        [0.634, 0.264],\n",
    "        # 4\n",
    "        [0.608, 0.318],\n",
    "        # 5\n",
    "        [0.556, 0.215],\n",
    "        # 6\n",
    "        [0.403, 0.237],\n",
    "        # 7\n",
    "        [0.481, 0.149],\n",
    "        # 8\n",
    "        [0.437, 0.211],\n",
    "        # 9\n",
    "        [0.666, 0.091],\n",
    "        # 10\n",
    "        [0.243, 0.267],\n",
    "        # 11\n",
    "        [0.245, 0.057],\n",
    "        # 12\n",
    "        [0.343, 0.099],\n",
    "        # 13\n",
    "        [0.639, 0.161],\n",
    "        # 14\n",
    "        [0.657, 0.198],\n",
    "        # 15\n",
    "        [0.360, 0.370],\n",
    "        # 16\n",
    "        [0.593, 0.042],\n",
    "        # 17\n",
    "        [0.719, 0.103],\n",
    "        # 18\n",
    "        [0.359, 0.188],\n",
    "        # 19\n",
    "        [0.339, 0.241],\n",
    "        # 20\n",
    "        [0.282, 0.257],\n",
    "        # 21\n",
    "        [0.748, 0.232],\n",
    "        # 22\n",
    "        [0.714, 0.346],\n",
    "        # 23\n",
    "        [0.483, 0.312],\n",
    "        # 24\n",
    "        [0.478, 0.437],\n",
    "        # 25\n",
    "        [0.525, 0.369],\n",
    "        # 26\n",
    "        [0.751, 0.489],\n",
    "        # 27\n",
    "        [0.532, 0.472],\n",
    "        # 28\n",
    "        [0.473, 0.376],\n",
    "        # 29\n",
    "        [0.725, 0.445],\n",
    "        # 30\n",
    "        [0.446, 0.459],\n",
    "    ]\n",
    "\n",
    "data = np.asarray(watermelon)\n",
    "centers_cluster, ss_error = elbow(data)\n",
    "show_elbow(ss_error)"
   ]
  },
  {
   "cell_type": "code",
   "execution_count": 12,
   "metadata": {},
   "outputs": [
    {
     "data": {
      "image/png": "[encoded data removed]",
      "text/plain": [
       "<Figure size 432x288 with 1 Axes>"
      ]
     },
     "metadata": {
      "needs_background": "light"
     },
     "output_type": "display_data"
    }
   ],
   "source": [
    "# As we can see, when k = 2, it is a inflection points.\n",
    "# I will use k = 2 to show the cluster result for the watermelon dataset.\n",
    "# The diamonds on the image are the centers, the circles on the image are the samples.\n",
    "show_2D_cluster(data, 2, centers_cluster[2][0], centers_cluster[2][1])"
   ]
  },
  {
   "cell_type": "code",
   "execution_count": null,
   "metadata": {},
   "outputs": [],
   "source": []
  }
 ],
 "metadata": {
  "kernelspec": {
   "display_name": "Python 3",
   "language": "python",
   "name": "python3"
  },
  "language_info": {
   "codemirror_mode": {
    "name": "ipython",
    "version": 3
   },
   "file_extension": ".py",
   "mimetype": "text/x-python",
   "name": "python",
   "nbconvert_exporter": "python",
   "pygments_lexer": "ipython3",
   "version": "3.7.3"
  }
 },
 "nbformat": 4,
 "nbformat_minor": 2
}
